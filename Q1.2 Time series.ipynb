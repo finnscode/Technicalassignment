{
 "cells": [
  {
   "cell_type": "code",
   "execution_count": 1,
   "id": "9364f159",
   "metadata": {},
   "outputs": [],
   "source": [
    "import numpy as np\n",
    "import pandas as pd\n",
    "import cryptocompare as cc\n",
    "from fredapi import Fred\n",
    "from fredapi import Fred\n",
    "import time\n",
    "from datetime import date\n",
    "import matplotlib.pyplot as plt"
   ]
  },
  {
   "cell_type": "code",
   "execution_count": 33,
   "id": "b9c4c481",
   "metadata": {},
   "outputs": [],
   "source": [
    "TODAY = str(date.today())"
   ]
  },
  {
   "cell_type": "code",
   "execution_count": 34,
   "id": "990692ca",
   "metadata": {},
   "outputs": [],
   "source": [
    "#Collecting a list of cryptocurrencies\n",
    "coin_list = cc.get_coin_list()\n",
    "coins = sorted(list(coin_list.keys()))"
   ]
  },
  {
   "cell_type": "code",
   "execution_count": 35,
   "id": "6fad8974",
   "metadata": {},
   "outputs": [],
   "source": [
    "coin_data = {}\n",
    "for i in range(len(coins)//50 + 1):\n",
    "    coins_to_get = coins[(50*i):(50*i+50)]\n",
    "    message = cc.get_price(coins_to_get, 'USD', full=True)\n",
    "    coin_data.update(message['RAW'])"
   ]
  },
  {
   "cell_type": "code",
   "execution_count": 36,
   "id": "27d0d59d",
   "metadata": {},
   "outputs": [],
   "source": [
    "#Retrieving Bitcoin data\n",
    "hist = cc.get_historical_price_day('BTC', 'USD', limit=90)"
   ]
  },
  {
   "cell_type": "code",
   "execution_count": 37,
   "id": "f9034795",
   "metadata": {},
   "outputs": [
    {
     "data": {
      "text/html": [
       "<div>\n",
       "<style scoped>\n",
       "    .dataframe tbody tr th:only-of-type {\n",
       "        vertical-align: middle;\n",
       "    }\n",
       "\n",
       "    .dataframe tbody tr th {\n",
       "        vertical-align: top;\n",
       "    }\n",
       "\n",
       "    .dataframe thead th {\n",
       "        text-align: right;\n",
       "    }\n",
       "</style>\n",
       "<table border=\"1\" class=\"dataframe\">\n",
       "  <thead>\n",
       "    <tr style=\"text-align: right;\">\n",
       "      <th></th>\n",
       "      <th>time</th>\n",
       "      <th>close</th>\n",
       "    </tr>\n",
       "  </thead>\n",
       "  <tbody>\n",
       "    <tr>\n",
       "      <th>0</th>\n",
       "      <td>1642809600</td>\n",
       "      <td>35075.92</td>\n",
       "    </tr>\n",
       "    <tr>\n",
       "      <th>1</th>\n",
       "      <td>1642896000</td>\n",
       "      <td>36288.15</td>\n",
       "    </tr>\n",
       "    <tr>\n",
       "      <th>2</th>\n",
       "      <td>1642982400</td>\n",
       "      <td>36702.79</td>\n",
       "    </tr>\n",
       "    <tr>\n",
       "      <th>3</th>\n",
       "      <td>1643068800</td>\n",
       "      <td>36975.99</td>\n",
       "    </tr>\n",
       "    <tr>\n",
       "      <th>4</th>\n",
       "      <td>1643155200</td>\n",
       "      <td>36829.37</td>\n",
       "    </tr>\n",
       "    <tr>\n",
       "      <th>...</th>\n",
       "      <td>...</td>\n",
       "      <td>...</td>\n",
       "    </tr>\n",
       "    <tr>\n",
       "      <th>86</th>\n",
       "      <td>1650240000</td>\n",
       "      <td>40811.03</td>\n",
       "    </tr>\n",
       "    <tr>\n",
       "      <th>87</th>\n",
       "      <td>1650326400</td>\n",
       "      <td>41504.44</td>\n",
       "    </tr>\n",
       "    <tr>\n",
       "      <th>88</th>\n",
       "      <td>1650412800</td>\n",
       "      <td>41375.35</td>\n",
       "    </tr>\n",
       "    <tr>\n",
       "      <th>89</th>\n",
       "      <td>1650499200</td>\n",
       "      <td>40490.97</td>\n",
       "    </tr>\n",
       "    <tr>\n",
       "      <th>90</th>\n",
       "      <td>1650585600</td>\n",
       "      <td>40523.41</td>\n",
       "    </tr>\n",
       "  </tbody>\n",
       "</table>\n",
       "<p>91 rows × 2 columns</p>\n",
       "</div>"
      ],
      "text/plain": [
       "          time     close\n",
       "0   1642809600  35075.92\n",
       "1   1642896000  36288.15\n",
       "2   1642982400  36702.79\n",
       "3   1643068800  36975.99\n",
       "4   1643155200  36829.37\n",
       "..         ...       ...\n",
       "86  1650240000  40811.03\n",
       "87  1650326400  41504.44\n",
       "88  1650412800  41375.35\n",
       "89  1650499200  40490.97\n",
       "90  1650585600  40523.41\n",
       "\n",
       "[91 rows x 2 columns]"
      ]
     },
     "execution_count": 37,
     "metadata": {},
     "output_type": "execute_result"
    }
   ],
   "source": [
    "#Removing all columns apart from the closing price\n",
    "closes = pd.DataFrame(hist)\n",
    "BTCclose = closes.drop(['high', 'low', 'open', 'volumeto', 'conversionType', 'conversionSymbol', 'volumefrom'], axis = 1)\n",
    "\n",
    "BTCclose\n"
   ]
  },
  {
   "cell_type": "code",
   "execution_count": 38,
   "id": "daa8ea1c",
   "metadata": {},
   "outputs": [
    {
     "data": {
      "text/plain": [
       "time\n",
       "2022-01-22    35075.92\n",
       "2022-01-23    36288.15\n",
       "2022-01-24    36702.79\n",
       "2022-01-25    36975.99\n",
       "2022-01-26    36829.37\n",
       "                ...   \n",
       "2022-04-18    40811.03\n",
       "2022-04-19    41504.44\n",
       "2022-04-20    41375.35\n",
       "2022-04-21    40490.97\n",
       "2022-04-22    40523.41\n",
       "Name: close, Length: 91, dtype: float64"
      ]
     },
     "execution_count": 38,
     "metadata": {},
     "output_type": "execute_result"
    }
   ],
   "source": [
    "#Formatting the data\n",
    "BTCclose['time'] = pd.to_datetime(BTCclose['time'],unit='s')\n",
    "\n",
    "BTCclose.set_index('time', inplace=True)\n",
    "y = BTCclose['close']\n",
    "y"
   ]
  },
  {
   "cell_type": "code",
   "execution_count": 24,
   "id": "fd47d930",
   "metadata": {},
   "outputs": [
    {
     "data": {
      "text/plain": [
       "2022-01-21    2579.94\n",
       "2022-01-22    2410.82\n",
       "2022-01-23    2536.65\n",
       "2022-01-24    2438.98\n",
       "2022-01-25    2457.06\n",
       "               ...   \n",
       "2022-04-17    2987.16\n",
       "2022-04-18    3057.72\n",
       "2022-04-19    3098.58\n",
       "2022-04-20    3075.06\n",
       "2022-04-21    2984.26\n",
       "Name: Close price, Length: 91, dtype: float64"
      ]
     },
     "execution_count": 24,
     "metadata": {},
     "output_type": "execute_result"
    }
   ],
   "source": [
    "#Retrieving Ethereum data from FRED\n",
    "fred = Fred(api_key='cfd92b6c9dd2083fd91635701acc6d9c')\n",
    "ETH = fred.get_series('CBETHUSD')\n",
    "ETH2 = ETH.last('91D')\n",
    "ETHpd = pd.DataFrame(ETH2)\n",
    "ETHpd.columns = ['Close price']\n",
    "\n",
    "x = ETHpd['Close price']\n",
    "x\n"
   ]
  },
  {
   "cell_type": "code",
   "execution_count": 25,
   "id": "eeb24dbc",
   "metadata": {},
   "outputs": [
    {
     "data": {
      "text/plain": [
       "Text(0, 0.5, 'y - $')"
      ]
     },
     "execution_count": 25,
     "metadata": {},
     "output_type": "execute_result"
    },
    {
     "data": {
      "image/png": "[encoded data removed]",
      "text/plain": [
       "<Figure size 432x288 with 1 Axes>"
      ]
     },
     "metadata": {
      "needs_background": "light"
     },
     "output_type": "display_data"
    }
   ],
   "source": [
    "#Plotting Bitcoin price against Ethereum\n",
    "plt.plot(x, y, 'go')\n",
    "plt.xlabel(\"x - $\")\n",
    "plt.ylabel(\"y - $\")"
   ]
  },
  {
   "cell_type": "code",
   "execution_count": 26,
   "id": "b3615bd5",
   "metadata": {},
   "outputs": [
    {
     "data": {
      "text/plain": [
       "pandas.core.series.Series"
      ]
     },
     "execution_count": 26,
     "metadata": {},
     "output_type": "execute_result"
    }
   ],
   "source": [
    "#Creating Numpy arrays\n",
    "y1 = y.to_numpy()\n",
    "x1 = x.to_numpy()\n",
    "type(x)"
   ]
  },
  {
   "cell_type": "code",
   "execution_count": 27,
   "id": "e43ff76e",
   "metadata": {},
   "outputs": [
    {
     "name": "stdout",
     "output_type": "stream",
     "text": [
      "alpha = 16968.541993236988 \n",
      "beta = 8.330515483831107\n"
     ]
    }
   ],
   "source": [
    "#Using OLS equation to find Alpha and Beta\n",
    "beta = ((np.multiply(y1, x1)).mean()-np.mean(x1)*np.mean(y1))/((np.multiply(x1, x1)).mean()-np.mean(x1)*np.mean(x1))\n",
    "alpha =np.mean(y1)-beta*np.mean(x1)\n",
    "print(\"alpha =\",alpha, \"\\nbeta =\",beta)"
   ]
  },
  {
   "cell_type": "code",
   "execution_count": 28,
   "id": "ca731a27",
   "metadata": {},
   "outputs": [
    {
     "data": {
      "text/plain": [
       "256395951.7653837"
      ]
     },
     "execution_count": 28,
     "metadata": {},
     "output_type": "execute_result"
    }
   ],
   "source": [
    "#Using gradient descent to find Alpha and Beta\n",
    "y_hat = alpha + np.multiply(beta,x1)\n",
    "L = np.sum(np.multiply(y1 - y_hat,y1 - y_hat))\n",
    "L"
   ]
  },
  {
   "cell_type": "code",
   "execution_count": 29,
   "id": "3e22dbf0",
   "metadata": {},
   "outputs": [],
   "source": [
    "def  cal_cost(beta0,beta1,x1,y1):\n",
    "        n = len(y1)\n",
    "        predictions = beta0 + np.multiply(beta1,x1)\n",
    "        cost = (1/2*n) * np.sum(np.square(predictions-y1))\n",
    "        return cost\n"
   ]
  },
  {
   "cell_type": "code",
   "execution_count": 30,
   "id": "4153cc41",
   "metadata": {},
   "outputs": [
    {
     "name": "stderr",
     "output_type": "stream",
     "text": [
      "/var/folders/nf/23b4jcnd4mg5_625zz18w6wr0000gn/T/ipykernel_76642/621532296.py:4: RuntimeWarning: overflow encountered in double_scalars\n",
      "  cost = (1/2*n) * np.sum(np.square(predictions-y1))\n",
      "/var/folders/nf/23b4jcnd4mg5_625zz18w6wr0000gn/T/ipykernel_76642/621532296.py:4: RuntimeWarning: overflow encountered in square\n",
      "  cost = (1/2*n) * np.sum(np.square(predictions-y1))\n",
      "/var/folders/nf/23b4jcnd4mg5_625zz18w6wr0000gn/T/ipykernel_76642/1304892046.py:21: RuntimeWarning: overflow encountered in multiply\n",
      "  residuals_x = np.multiply(residuals,x1)\n",
      "/var/folders/nf/23b4jcnd4mg5_625zz18w6wr0000gn/T/ipykernel_76642/1304892046.py:24: RuntimeWarning: invalid value encountered in double_scalars\n",
      "  beta1 = beta1 - beta1_gradient\n"
     ]
    }
   ],
   "source": [
    "iterations = 500\n",
    "learningrate = 0.01\n",
    "beta0 = -11\n",
    "beta1 = 0\n",
    "n = len(y1)\n",
    "index = np.arange(1, iterations+1, 1).reshape((iterations, 1))\n",
    "\n",
    "loss_history = np.zeros((iterations,1))\n",
    "beta0_history = np.zeros((iterations,1))\n",
    "beta1_history = np.zeros((iterations,1))\n",
    "\n",
    "for i in range(iterations):\n",
    "       \n",
    "        prediction = beta0 + np.multiply(beta1,x1)\n",
    "        residuals = y1-prediction\n",
    "        residuals_sum = sum(residuals)\n",
    "        beta0_gradient = -(1/n)*residuals_sum*(learningrate)\n",
    "        beta0 = beta0 - beta0_gradient\n",
    "        beta0_history[i] = beta0\n",
    "    \n",
    "        residuals_x = np.multiply(residuals,x1)\n",
    "        residuals_x_sum = sum(residuals_x)\n",
    "        beta1_gradient = -(1/n)*residuals_x_sum*(learningrate)\n",
    "        beta1 = beta1 - beta1_gradient\n",
    "        beta1_history[i] = beta1\n",
    "    \n",
    "        loss_history[i] = cal_cost(beta0,beta1,x1,y1)"
   ]
  },
  {
   "cell_type": "code",
   "execution_count": null,
   "id": "c0864745",
   "metadata": {},
   "outputs": [],
   "source": []
  },
  {
   "cell_type": "code",
   "execution_count": null,
   "id": "4590b6fa-daef-46c7-8e09-c3c17899b21d",
   "metadata": {},
   "outputs": [],
   "source": []
  }
 ],
 "metadata": {
  "kernelspec": {
   "display_name": "Python 3 (ipykernel)",
   "language": "python",
   "name": "python3"
  },
  "language_info": {
   "codemirror_mode": {
    "name": "ipython",
    "version": 3
   },
   "file_extension": ".py",
   "mimetype": "text/x-python",
   "name": "python",
   "nbconvert_exporter": "python",
   "pygments_lexer": "ipython3",
   "version": "3.9.7"
  }
 },
 "nbformat": 4,
 "nbformat_minor": 5
}
